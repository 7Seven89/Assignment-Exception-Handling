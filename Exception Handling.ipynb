{
 "cells": [
  {
   "cell_type": "markdown",
   "id": "93ff8d6a-9b12-4889-a395-bea00ef43772",
   "metadata": {},
   "source": [
    "**Q1. What is exception handling in python? Write the difference between Exceptions and Syntax errors?**"
   ]
  },
  {
   "cell_type": "markdown",
   "id": "3e41f9cf-3998-4c2e-bf48-2d3820ca3656",
   "metadata": {},
   "source": [
    "A1. Exception handling in Python is a mechanism for responding to runtime errors, also known as exceptions. It allows a programmer to handle errors gracefully without stopping the execution of the program.\n",
    "\n",
    "- **Syntax errors:** occur when the parser detects an incorrect statement. In other words, these are errors in the syntax of the code.\n",
    "- **Exceptions:** are errors that occur during the execution of the program, i.e., at runtime. These errors are typically due to invalid operations such as dividing by zero, accessing a non-existent file, etc."
   ]
  },
  {
   "cell_type": "markdown",
   "id": "d3dafbe0-5826-4966-ae8b-ff2ea09a7879",
   "metadata": {},
   "source": [
    "**Q2. What happens when an exception is not handled? Explain with an example.**"
   ]
  },
  {
   "cell_type": "markdown",
   "id": "df982579-4c0e-4962-9438-7320039aefc7",
   "metadata": {},
   "source": [
    "A2. When an exception is not handled in Python, the program terminates abruptly and displays an error message called a traceback. The traceback provides information about the type of exception that occurred, the line number where it happened, and the sequence of function calls that led to the error."
   ]
  },
  {
   "cell_type": "code",
   "execution_count": 6,
   "id": "df636f59-80e8-44cb-88ad-eeedb86a93a3",
   "metadata": {},
   "outputs": [
    {
     "ename": "ZeroDivisionError",
     "evalue": "division by zero",
     "output_type": "error",
     "traceback": [
      "\u001b[1;31m---------------------------------------------------------------------------\u001b[0m",
      "\u001b[1;31mZeroDivisionError\u001b[0m                         Traceback (most recent call last)",
      "Cell \u001b[1;32mIn[6], line 6\u001b[0m\n\u001b[0;32m      3\u001b[0m a \u001b[38;5;241m=\u001b[39m \u001b[38;5;241m0\u001b[39m\n\u001b[0;32m      4\u001b[0m b \u001b[38;5;241m=\u001b[39m \u001b[38;5;241m0\u001b[39m\n\u001b[1;32m----> 6\u001b[0m \u001b[38;5;28mprint\u001b[39m(\u001b[43ma\u001b[49m\u001b[38;5;241;43m/\u001b[39;49m\u001b[43mb\u001b[49m)\n",
      "\u001b[1;31mZeroDivisionError\u001b[0m: division by zero"
     ]
    }
   ],
   "source": [
    "# Not handling exception:\n",
    "\n",
    "a = 0\n",
    "b = 0\n",
    "\n",
    "print(a/b)"
   ]
  },
  {
   "cell_type": "code",
   "execution_count": 4,
   "id": "85da5dc9-426f-4c4d-9b31-f2aafb80fa3f",
   "metadata": {},
   "outputs": [
    {
     "name": "stdout",
     "output_type": "stream",
     "text": [
      "This is an example\n"
     ]
    }
   ],
   "source": [
    "# Handling exception:\n",
    "\n",
    "a = 0\n",
    "b = 0\n",
    "\n",
    "try:\n",
    "    print(a/b)\n",
    "except Exception:\n",
    "    print(\"This is an example\")"
   ]
  },
  {
   "cell_type": "markdown",
   "id": "7d05f462-9b3c-4f32-9563-28ca9966d47c",
   "metadata": {},
   "source": [
    "**Q3. Which python statements are used to catch and handle exceptions? Explain with an example.**"
   ]
  },
  {
   "cell_type": "markdown",
   "id": "e6723d68-5b5e-4320-b0b8-345fd4056d6c",
   "metadata": {},
   "source": [
    "A3.\n",
    "- **\"try\" Block:** The try block contains the code that might raise an exception. If an exception occurs, the remaining code in the try block is skipped.\n",
    "\n",
    "- **\"Except\" Block:** The except block contains code that runs if an exception occurs in the try block. You can specify the type of exception to catch specific errors.\n",
    "\n",
    "- **\"else\" Block:** The else block contains code that runs if no exception occurs in the try block. This block is optional and can be used to separate the code that should only run when the try block is successful.\n",
    "\n",
    "- **\"finally\" Block:** The finally block contains code that runs regardless of whether an exception occurs or not. This block is optional and is typically used for cleanup actions, such as closing files or releasing resources."
   ]
  },
  {
   "cell_type": "code",
   "execution_count": 29,
   "id": "dfbf32b3-81c2-45d6-ba06-9648ec7f0750",
   "metadata": {},
   "outputs": [],
   "source": [
    "def test_div(a, b):\n",
    "    try:\n",
    "        print(a/b)\n",
    "    except Exception as e:\n",
    "        print(e)\n",
    "    else:\n",
    "        print(\"The calculation is successful\")\n",
    "    finally:\n",
    "        print(\"This is an example\")    "
   ]
  },
  {
   "cell_type": "code",
   "execution_count": 30,
   "id": "61409c75-46b0-4170-96cb-c7a44aab8900",
   "metadata": {},
   "outputs": [
    {
     "name": "stdout",
     "output_type": "stream",
     "text": [
      "division by zero\n",
      "This is an example\n"
     ]
    }
   ],
   "source": [
    "test_div(0,0)"
   ]
  },
  {
   "cell_type": "code",
   "execution_count": 31,
   "id": "f0f3a43d-d9b0-44b4-9140-ad0b2d0b1e77",
   "metadata": {},
   "outputs": [
    {
     "name": "stdout",
     "output_type": "stream",
     "text": [
      "0.5\n",
      "The calculation is successful\n",
      "This is an example\n"
     ]
    }
   ],
   "source": [
    "result = test_div(2, 4)"
   ]
  },
  {
   "cell_type": "markdown",
   "id": "c1634094-a607-448c-b6ac-57277e9140e4",
   "metadata": {},
   "source": [
    "**Q4.Explain with an example:**\n",
    "- **a. try and else**\n",
    "- **b. finally**\n",
    "- **c. raise**"
   ]
  },
  {
   "cell_type": "markdown",
   "id": "11c113e0-37f6-4e1d-ba24-9c9328528e34",
   "metadata": {},
   "source": [
    "A4.  \n",
    "a.   \n",
    "- **\"try\" Block:** The try block contains the code that might raise an exception. If an exception occurs, the remaining code in the try block is skipped.\n",
    "\n",
    "- **\"else\" Block:** The else block contains code that runs if no exception occurs in the try block. This block is optional and can be used to separate the code that should only run when the try block is successful."
   ]
  },
  {
   "cell_type": "code",
   "execution_count": 33,
   "id": "4d8d7975-272d-4987-9326-80f1fbe09102",
   "metadata": {},
   "outputs": [
    {
     "name": "stdout",
     "output_type": "stream",
     "text": [
      "0.5\n",
      "The calculation is successful\n"
     ]
    }
   ],
   "source": [
    "a = 2\n",
    "b = 4\n",
    "try:\n",
    "    print(a/b)\n",
    "except Exception as e:\n",
    "    print(e)\n",
    "else:\n",
    "    print(\"The calculation is successful\")"
   ]
  },
  {
   "cell_type": "markdown",
   "id": "63b40b46-c855-439c-afcf-b383b58a7b79",
   "metadata": {},
   "source": [
    "A4.  \n",
    "b. **\"finally\" Block:** The finally block contains code that runs regardless of whether an exception occurs or not. This block is optional and is typically used for cleanup actions, such as closing files or releasing resources."
   ]
  },
  {
   "cell_type": "code",
   "execution_count": 35,
   "id": "ebce6658-99ea-46ef-aa8f-c804c150388b",
   "metadata": {},
   "outputs": [
    {
     "name": "stdout",
     "output_type": "stream",
     "text": [
      "division by zero\n",
      "This will always run\n"
     ]
    }
   ],
   "source": [
    "a = 0\n",
    "b = 0\n",
    "try:\n",
    "    print(a/b)\n",
    "except Exception as e:\n",
    "    print(e)\n",
    "else:\n",
    "    print(\"The calculation is successful\")\n",
    "finally:\n",
    "    print(\"This will always run\")\n"
   ]
  },
  {
   "cell_type": "markdown",
   "id": "fcac0b30-eb23-4425-9aa6-3776e875127b",
   "metadata": {},
   "source": [
    "A4.  \n",
    "c. The raise statement in Python is used to explicitly trigger an exception in your code. You can use it to create your own exceptions or to re-raise existing exceptions. This is particularly useful for enforcing certain conditions or for debugging purposes."
   ]
  },
  {
   "cell_type": "code",
   "execution_count": 36,
   "id": "862e7f3b-086a-42a2-b96d-f4a0adb3c9d7",
   "metadata": {},
   "outputs": [],
   "source": [
    "def check_posi(x):\n",
    "    if x < 0:\n",
    "        raise ValueError(\"The number is negative\")\n",
    "    return x"
   ]
  },
  {
   "cell_type": "code",
   "execution_count": 39,
   "id": "185934cd-5792-4e76-aabc-5506b9f552ba",
   "metadata": {},
   "outputs": [
    {
     "name": "stdout",
     "output_type": "stream",
     "text": [
      "10\n",
      "The number is negative\n"
     ]
    }
   ],
   "source": [
    "try:\n",
    "    print(check_posi(10))\n",
    "    print(check_posi(-5))\n",
    "except Exception as e:\n",
    "    print(e)"
   ]
  },
  {
   "cell_type": "markdown",
   "id": "5e17ee0f-e13e-4950-8f5e-6b778ba0e29a",
   "metadata": {},
   "source": [
    "**Q5. What are Custom Exceptions in python? Why do we need Custom Exceptions? Explain with example.**"
   ]
  },
  {
   "cell_type": "markdown",
   "id": "5b01531f-91fa-4c66-aa30-045945ff552e",
   "metadata": {},
   "source": [
    "A5.  \n",
    "Custom exceptions in Python are user-defined error types created by subclassing the built-in Exception class or any of its subclasses. Custom exceptions allow you to define specific error conditions and create meaningful error messages tailored to the needs of your application. They help in making your code more readable and maintainable by clearly indicating what kind of error occurred and where it originated."
   ]
  },
  {
   "cell_type": "markdown",
   "id": "5947b12b-4fbf-476a-82b2-76abb9382a77",
   "metadata": {},
   "source": [
    "**Q6. Create a custom exception class. Use this class to handle an exception**"
   ]
  },
  {
   "cell_type": "code",
   "execution_count": 44,
   "id": "8927c843-6aae-44d8-b5c9-7054d4c8d64a",
   "metadata": {},
   "outputs": [],
   "source": [
    "# A6.\n",
    "class NegativeNumberError(Exception):\n",
    "\n",
    "    def __init__(self, message=\"The number must be positive\"):\n",
    "        self.message = message\n",
    "        super().__init__(self.message)"
   ]
  },
  {
   "cell_type": "code",
   "execution_count": 42,
   "id": "84d904f4-eee9-4179-a810-677216459934",
   "metadata": {},
   "outputs": [],
   "source": [
    "def check_positive(number):\n",
    "    if number < 0:\n",
    "        raise NegativeNumberError(f\"Invalid input: {number}. The number must be positive.\")\n",
    "    return number"
   ]
  },
  {
   "cell_type": "code",
   "execution_count": 43,
   "id": "6685e44d-ab7d-4c4a-aab2-babf13465fef",
   "metadata": {},
   "outputs": [
    {
     "name": "stdout",
     "output_type": "stream",
     "text": [
      "10\n",
      "Invalid input: -5. The number must be positive.\n"
     ]
    }
   ],
   "source": [
    "try:\n",
    "    print(check_positive(10))\n",
    "    print(check_positive(-5))\n",
    "except NegativeNumberError as e:\n",
    "    print(e)"
   ]
  }
 ],
 "metadata": {
  "kernelspec": {
   "display_name": "Python 3 (ipykernel)",
   "language": "python",
   "name": "python3"
  },
  "language_info": {
   "codemirror_mode": {
    "name": "ipython",
    "version": 3
   },
   "file_extension": ".py",
   "mimetype": "text/x-python",
   "name": "python",
   "nbconvert_exporter": "python",
   "pygments_lexer": "ipython3",
   "version": "3.12.2"
  }
 },
 "nbformat": 4,
 "nbformat_minor": 5
}
